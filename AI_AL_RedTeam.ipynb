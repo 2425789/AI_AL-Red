{
  "nbformat": 4,
  "nbformat_minor": 0,
  "metadata": {
    "colab": {
      "provenance": []
    },
    "kernelspec": {
      "name": "python3",
      "display_name": "Python 3"
    },
    "language_info": {
      "name": "python"
    }
  },
  "cells": [
    {
      "cell_type": "code",
      "execution_count": null,
      "metadata": {
        "id": "u_m_9bUF7ZvO",
        "colab": {
          "base_uri": "https://localhost:8080/"
        },
        "outputId": "89314d35-c0d5-4b0c-c280-807802d64417"
      },
      "outputs": [
        {
          "output_type": "stream",
          "name": "stdout",
          "text": [
            "Cloning into 'EvoPrompt'...\n",
            "remote: Enumerating objects: 390, done.\u001b[K\n",
            "remote: Counting objects: 100% (39/39), done.\u001b[K\n",
            "remote: Compressing objects: 100% (15/15), done.\u001b[K\n",
            "remote: Total 390 (delta 29), reused 24 (delta 24), pack-reused 351 (from 1)\u001b[K\n",
            "Receiving objects: 100% (390/390), 2.89 MiB | 6.62 MiB/s, done.\n",
            "Resolving deltas: 100% (121/121), done.\n",
            "/content/EvoPrompt/EvoPrompt/EvoPrompt\n"
          ]
        }
      ],
      "source": [
        "!git clone https://github.com/beeevita/EvoPrompt.git  # Replace with actual repo URL\n",
        "%cd EvoPrompt\n",
        "!wget -N https://nlp.cs.princeton.edu/projects/lm-bff/datasets.tar\n",
        "#https://github.com/LLM-Tuning-Safety/LLMs-Finetuning-Safety/blob/main/gpt-3.5/data/harmful_behaviors.csv\n"
      ]
    },
    {
      "cell_type": "code",
      "source": [
        "!pip install -r requirements.txt\n",
        "!pip install datasets\n"
      ],
      "metadata": {
        "colab": {
          "base_uri": "https://localhost:8080/"
        },
        "id": "Xzp9SeY9AD8D",
        "outputId": "b234c372-bb29-4f4b-f356-c24356008e3f"
      },
      "execution_count": null,
      "outputs": [
        {
          "output_type": "stream",
          "name": "stdout",
          "text": [
            "Collecting git+https://github.com/huggingface/transformers.git (from -r requirements.txt (line 20))\n",
            "  Cloning https://github.com/huggingface/transformers.git to /tmp/pip-req-build-_zjlt4w4\n",
            "  Running command git clone --filter=blob:none --quiet https://github.com/huggingface/transformers.git /tmp/pip-req-build-_zjlt4w4\n",
            "  Resolved https://github.com/huggingface/transformers.git to commit 4d1d489617f195bae9e1cad89a3fa357c57e4648\n",
            "  Installing build dependencies ... \u001b[?25l\u001b[?25hdone\n",
            "  Getting requirements to build wheel ... \u001b[?25l\u001b[?25hdone\n",
            "  Preparing metadata (pyproject.toml) ... \u001b[?25l\u001b[?25hdone\n",
            "Collecting git+https://github.com/feralvam/easse.git (from -r requirements.txt (line 22))\n",
            "  Cloning https://github.com/feralvam/easse.git to /tmp/pip-req-build-vqsjd3go\n",
            "  Running command git clone --filter=blob:none --quiet https://github.com/feralvam/easse.git /tmp/pip-req-build-vqsjd3go\n",
            "  Resolved https://github.com/feralvam/easse.git to commit 6a4352ec299ed03fda8ee45445ca43d9c7673e89\n",
            "  Preparing metadata (setup.py) ... \u001b[?25l\u001b[?25hdone\n",
            "Collecting backoff==2.2.1 (from -r requirements.txt (line 1))\n",
            "  Using cached backoff-2.2.1-py3-none-any.whl.metadata (14 kB)\n",
            "Collecting comet==3.1.0 (from -r requirements.txt (line 2))\n",
            "  Using cached Comet-3.1.0.tar.gz (35 kB)\n",
            "  Preparing metadata (setup.py) ... \u001b[?25l\u001b[?25hdone\n",
            "Collecting datasets==2.13.1 (from -r requirements.txt (line 3))\n",
            "  Using cached datasets-2.13.1-py3-none-any.whl.metadata (20 kB)\n",
            "Collecting fairseq==0.12.2 (from -r requirements.txt (line 4))\n",
            "  Using cached fairseq-0.12.2.tar.gz (9.6 MB)\n",
            "  Installing build dependencies ... \u001b[?25l\u001b[?25hdone\n",
            "  Getting requirements to build wheel ... \u001b[?25l\u001b[?25hdone\n",
            "  Installing backend dependencies ... \u001b[?25l\u001b[?25hdone\n",
            "  Preparing metadata (pyproject.toml) ... \u001b[?25l\u001b[?25hdone\n",
            "Collecting mosestokenizer==1.2.1 (from -r requirements.txt (line 5))\n",
            "  Using cached mosestokenizer-1.2.1.tar.gz (37 kB)\n",
            "  Preparing metadata (setup.py) ... \u001b[?25l\u001b[?25hdone\n",
            "Collecting msal==1.20.0 (from -r requirements.txt (line 6))\n",
            "  Using cached msal-1.20.0-py2.py3-none-any.whl.metadata (10 kB)\n",
            "Collecting nevergrad==0.7.0 (from -r requirements.txt (line 7))\n",
            "  Using cached nevergrad-0.7.0-py3-none-any.whl.metadata (9.9 kB)\n",
            "Collecting numpy==1.23.3 (from -r requirements.txt (line 8))\n",
            "  Using cached numpy-1.23.3-cp311-cp311-manylinux_2_17_x86_64.manylinux2014_x86_64.whl.metadata (2.3 kB)\n",
            "Collecting openai==0.27.8 (from -r requirements.txt (line 9))\n",
            "  Using cached openai-0.27.8-py3-none-any.whl.metadata (13 kB)\n",
            "Collecting PyYAML==6.0 (from -r requirements.txt (line 10))\n",
            "  Using cached PyYAML-6.0-cp311-cp311-manylinux_2_17_x86_64.manylinux2014_x86_64.whl.metadata (2.1 kB)\n",
            "Collecting Requests==2.31.0 (from -r requirements.txt (line 12))\n",
            "  Using cached requests-2.31.0-py3-none-any.whl.metadata (4.6 kB)\n",
            "Collecting rouge==1.0.1 (from -r requirements.txt (line 13))\n",
            "  Using cached rouge-1.0.1-py3-none-any.whl.metadata (4.1 kB)\n",
            "Collecting sacrebleu==2.3.1 (from -r requirements.txt (line 14))\n",
            "  Using cached sacrebleu-2.3.1-py3-none-any.whl.metadata (57 kB)\n",
            "Collecting scikit_learn==1.1.2 (from -r requirements.txt (line 15))\n",
            "  Using cached scikit-learn-1.1.2.tar.gz (7.0 MB)\n",
            "  Installing build dependencies ... \u001b[?25l\u001b[?25hdone\n",
            "  Getting requirements to build wheel ... \u001b[?25l\u001b[?25hdone\n",
            "  \u001b[1;31merror\u001b[0m: \u001b[1msubprocess-exited-with-error\u001b[0m\n",
            "  \n",
            "  \u001b[31m×\u001b[0m \u001b[32mPreparing metadata \u001b[0m\u001b[1;32m(\u001b[0m\u001b[32mpyproject.toml\u001b[0m\u001b[1;32m)\u001b[0m did not run successfully.\n",
            "  \u001b[31m│\u001b[0m exit code: \u001b[1;36m1\u001b[0m\n",
            "  \u001b[31m╰─>\u001b[0m See above for output.\n",
            "  \n",
            "  \u001b[1;35mnote\u001b[0m: This error originates from a subprocess, and is likely not a problem with pip.\n",
            "  Preparing metadata (pyproject.toml) ... \u001b[?25l\u001b[?25herror\n",
            "\u001b[1;31merror\u001b[0m: \u001b[1mmetadata-generation-failed\u001b[0m\n",
            "\n",
            "\u001b[31m×\u001b[0m Encountered error while generating package metadata.\n",
            "\u001b[31m╰─>\u001b[0m See above for output.\n",
            "\n",
            "\u001b[1;35mnote\u001b[0m: This is an issue with the package mentioned above, not pip.\n",
            "\u001b[1;36mhint\u001b[0m: See above for details.\n",
            "Collecting datasets\n",
            "  Downloading datasets-3.2.0-py3-none-any.whl.metadata (20 kB)\n",
            "Requirement already satisfied: filelock in /usr/local/lib/python3.11/dist-packages (from datasets) (3.17.0)\n",
            "Requirement already satisfied: numpy>=1.17 in /usr/local/lib/python3.11/dist-packages (from datasets) (1.26.4)\n",
            "Requirement already satisfied: pyarrow>=15.0.0 in /usr/local/lib/python3.11/dist-packages (from datasets) (17.0.0)\n",
            "Collecting dill<0.3.9,>=0.3.0 (from datasets)\n",
            "  Downloading dill-0.3.8-py3-none-any.whl.metadata (10 kB)\n",
            "Requirement already satisfied: pandas in /usr/local/lib/python3.11/dist-packages (from datasets) (2.2.2)\n",
            "Requirement already satisfied: requests>=2.32.2 in /usr/local/lib/python3.11/dist-packages (from datasets) (2.32.3)\n",
            "Requirement already satisfied: tqdm>=4.66.3 in /usr/local/lib/python3.11/dist-packages (from datasets) (4.67.1)\n",
            "Collecting xxhash (from datasets)\n",
            "  Downloading xxhash-3.5.0-cp311-cp311-manylinux_2_17_x86_64.manylinux2014_x86_64.whl.metadata (12 kB)\n",
            "Collecting multiprocess<0.70.17 (from datasets)\n",
            "  Downloading multiprocess-0.70.16-py311-none-any.whl.metadata (7.2 kB)\n",
            "Collecting fsspec<=2024.9.0,>=2023.1.0 (from fsspec[http]<=2024.9.0,>=2023.1.0->datasets)\n",
            "  Downloading fsspec-2024.9.0-py3-none-any.whl.metadata (11 kB)\n",
            "Requirement already satisfied: aiohttp in /usr/local/lib/python3.11/dist-packages (from datasets) (3.11.11)\n",
            "Requirement already satisfied: huggingface-hub>=0.23.0 in /usr/local/lib/python3.11/dist-packages (from datasets) (0.27.1)\n",
            "Requirement already satisfied: packaging in /usr/local/lib/python3.11/dist-packages (from datasets) (24.2)\n",
            "Requirement already satisfied: pyyaml>=5.1 in /usr/local/lib/python3.11/dist-packages (from datasets) (6.0.2)\n",
            "Requirement already satisfied: aiohappyeyeballs>=2.3.0 in /usr/local/lib/python3.11/dist-packages (from aiohttp->datasets) (2.4.4)\n",
            "Requirement already satisfied: aiosignal>=1.1.2 in /usr/local/lib/python3.11/dist-packages (from aiohttp->datasets) (1.3.2)\n",
            "Requirement already satisfied: attrs>=17.3.0 in /usr/local/lib/python3.11/dist-packages (from aiohttp->datasets) (24.3.0)\n",
            "Requirement already satisfied: frozenlist>=1.1.1 in /usr/local/lib/python3.11/dist-packages (from aiohttp->datasets) (1.5.0)\n",
            "Requirement already satisfied: multidict<7.0,>=4.5 in /usr/local/lib/python3.11/dist-packages (from aiohttp->datasets) (6.1.0)\n",
            "Requirement already satisfied: propcache>=0.2.0 in /usr/local/lib/python3.11/dist-packages (from aiohttp->datasets) (0.2.1)\n",
            "Requirement already satisfied: yarl<2.0,>=1.17.0 in /usr/local/lib/python3.11/dist-packages (from aiohttp->datasets) (1.18.3)\n",
            "Requirement already satisfied: typing-extensions>=3.7.4.3 in /usr/local/lib/python3.11/dist-packages (from huggingface-hub>=0.23.0->datasets) (4.12.2)\n",
            "Requirement already satisfied: charset-normalizer<4,>=2 in /usr/local/lib/python3.11/dist-packages (from requests>=2.32.2->datasets) (3.4.1)\n",
            "Requirement already satisfied: idna<4,>=2.5 in /usr/local/lib/python3.11/dist-packages (from requests>=2.32.2->datasets) (3.10)\n",
            "Requirement already satisfied: urllib3<3,>=1.21.1 in /usr/local/lib/python3.11/dist-packages (from requests>=2.32.2->datasets) (2.3.0)\n",
            "Requirement already satisfied: certifi>=2017.4.17 in /usr/local/lib/python3.11/dist-packages (from requests>=2.32.2->datasets) (2024.12.14)\n",
            "Requirement already satisfied: python-dateutil>=2.8.2 in /usr/local/lib/python3.11/dist-packages (from pandas->datasets) (2.8.2)\n",
            "Requirement already satisfied: pytz>=2020.1 in /usr/local/lib/python3.11/dist-packages (from pandas->datasets) (2024.2)\n",
            "Requirement already satisfied: tzdata>=2022.7 in /usr/local/lib/python3.11/dist-packages (from pandas->datasets) (2025.1)\n",
            "Requirement already satisfied: six>=1.5 in /usr/local/lib/python3.11/dist-packages (from python-dateutil>=2.8.2->pandas->datasets) (1.17.0)\n",
            "Downloading datasets-3.2.0-py3-none-any.whl (480 kB)\n",
            "\u001b[2K   \u001b[90m━━━━━━━━━━━━━━━━━━━━━━━━━━━━━━━━━━━━━━━━\u001b[0m \u001b[32m480.6/480.6 kB\u001b[0m \u001b[31m8.5 MB/s\u001b[0m eta \u001b[36m0:00:00\u001b[0m\n",
            "\u001b[?25hDownloading dill-0.3.8-py3-none-any.whl (116 kB)\n",
            "\u001b[2K   \u001b[90m━━━━━━━━━━━━━━━━━━━━━━━━━━━━━━━━━━━━━━━━\u001b[0m \u001b[32m116.3/116.3 kB\u001b[0m \u001b[31m8.9 MB/s\u001b[0m eta \u001b[36m0:00:00\u001b[0m\n",
            "\u001b[?25hDownloading fsspec-2024.9.0-py3-none-any.whl (179 kB)\n",
            "\u001b[2K   \u001b[90m━━━━━━━━━━━━━━━━━━━━━━━━━━━━━━━━━━━━━━━━\u001b[0m \u001b[32m179.3/179.3 kB\u001b[0m \u001b[31m13.4 MB/s\u001b[0m eta \u001b[36m0:00:00\u001b[0m\n",
            "\u001b[?25hDownloading multiprocess-0.70.16-py311-none-any.whl (143 kB)\n",
            "\u001b[2K   \u001b[90m━━━━━━━━━━━━━━━━━━━━━━━━━━━━━━━━━━━━━━━━\u001b[0m \u001b[32m143.5/143.5 kB\u001b[0m \u001b[31m10.6 MB/s\u001b[0m eta \u001b[36m0:00:00\u001b[0m\n",
            "\u001b[?25hDownloading xxhash-3.5.0-cp311-cp311-manylinux_2_17_x86_64.manylinux2014_x86_64.whl (194 kB)\n",
            "\u001b[2K   \u001b[90m━━━━━━━━━━━━━━━━━━━━━━━━━━━━━━━━━━━━━━━━\u001b[0m \u001b[32m194.8/194.8 kB\u001b[0m \u001b[31m15.7 MB/s\u001b[0m eta \u001b[36m0:00:00\u001b[0m\n",
            "\u001b[?25hInstalling collected packages: xxhash, fsspec, dill, multiprocess, datasets\n",
            "  Attempting uninstall: fsspec\n",
            "    Found existing installation: fsspec 2024.10.0\n",
            "    Uninstalling fsspec-2024.10.0:\n",
            "      Successfully uninstalled fsspec-2024.10.0\n",
            "\u001b[31mERROR: pip's dependency resolver does not currently take into account all the packages that are installed. This behaviour is the source of the following dependency conflicts.\n",
            "gcsfs 2024.10.0 requires fsspec==2024.10.0, but you have fsspec 2024.9.0 which is incompatible.\u001b[0m\u001b[31m\n",
            "\u001b[0mSuccessfully installed datasets-3.2.0 dill-0.3.8 fsspec-2024.9.0 multiprocess-0.70.16 xxhash-3.5.0\n"
          ]
        }
      ]
    },
    {
      "cell_type": "markdown",
      "source": [],
      "metadata": {
        "id": "r9LdTmHo_tf8"
      }
    },
    {
      "cell_type": "code",
      "source": [
        "!bash scripts/cls/run_ga_alpaca.sh  # Run Genetic Algorithm\n",
        "!bash scripts/cls/run_de_alpaca.sh  # Run Differential Evolution\n",
        "\n"
      ],
      "metadata": {
        "colab": {
          "base_uri": "https://localhost:8080/"
        },
        "id": "_zQtdsMfDxX6",
        "outputId": "e1a30e6f-5d59-466b-d6b9-0b3e2aa2145b"
      },
      "execution_count": null,
      "outputs": [
        {
          "output_type": "stream",
          "name": "stdout",
          "text": [
            "+ export CUBLAS_WORKSPACE_CONFIG=:16:8\n",
            "+ CUBLAS_WORKSPACE_CONFIG=:16:8\n",
            "+ export CUDA_VISIBLE_DEVICES=0\n",
            "+ CUDA_VISIBLE_DEVICES=0\n",
            "+ BUDGET=10\n",
            "+ POPSIZE=10\n",
            "+ SEED=5\n",
            "+ GA=topk\n",
            "+ LLM_TYPE=davinci\n",
            "+ for dataset in sst2\n",
            "+ OUT_PATH=outputs/cls/sst2/alpaca/all/ga/bd10_top10_para_topk_init/topk/davinci\n",
            "+ for SEED in 15\n",
            "+ python run.py --seed 15 --dataset sst2 --task cls --batch-size 32 --prompt-num 0 --sample_num 500 --language_model alpaca --budget 10 --popsize 10 --position demon --evo_mode ga --llm_type davinci --setting default --initial all --initial_mode para_topk --ga_mode topk --cache_path data/cls/sst2/seed15/prompts_batched.json --output outputs/cls/sst2/alpaca/all/ga/bd10_top10_para_topk_init/topk/davinci/seed15 --dev_file ./data/cls/sst2/seed15/dev.txt\n",
            "2025-01-29 17:34:59.600868: E external/local_xla/xla/stream_executor/cuda/cuda_fft.cc:485] Unable to register cuFFT factory: Attempting to register factory for plugin cuFFT when one has already been registered\n",
            "2025-01-29 17:34:59.625469: E external/local_xla/xla/stream_executor/cuda/cuda_dnn.cc:8454] Unable to register cuDNN factory: Attempting to register factory for plugin cuDNN when one has already been registered\n",
            "2025-01-29 17:34:59.632784: E external/local_xla/xla/stream_executor/cuda/cuda_blas.cc:1452] Unable to register cuBLAS factory: Attempting to register factory for plugin cuBLAS when one has already been registered\n",
            "2025-01-29 17:34:59.650083: I tensorflow/core/platform/cpu_feature_guard.cc:210] This TensorFlow binary is optimized to use available CPU instructions in performance-critical operations.\n",
            "To enable the following instructions: AVX2 FMA, in other operations, rebuild TensorFlow with the appropriate compiler flags.\n",
            "2025-01-29 17:35:01.366167: W tensorflow/compiler/tf2tensorrt/utils/py_utils.cc:38] TF-TRT Warning: Could not find TensorRT\n",
            "Traceback (most recent call last):\n",
            "  File \"/content/EvoPrompt/EvoPrompt/EvoPrompt/run.py\", line 4, in <module>\n",
            "    from evaluator import CLSEvaluator, SimEvaluator, SumEvaluator\n",
            "  File \"/content/EvoPrompt/EvoPrompt/EvoPrompt/evaluator.py\", line 18, in <module>\n",
            "    from sacrebleu.metrics import BLEU, CHRF, TER\n",
            "ModuleNotFoundError: No module named 'sacrebleu'\n",
            "+ export CUBLAS_WORKSPACE_CONFIG=:16:8\n",
            "+ CUBLAS_WORKSPACE_CONFIG=:16:8\n",
            "+ export CUDA_VISIBLE_DEVICES=0\n",
            "+ CUDA_VISIBLE_DEVICES=0\n",
            "+ BUDGET=10\n",
            "+ POPSIZE=10\n",
            "+ SEED=5\n",
            "+ TEMPLATE=v1\n",
            "+ INITIAL_MODE=para_topk\n",
            "+ LLM_TYPE=turbo\n",
            "+ for DATASET in cr\n",
            "+ OUT_PATH=outputs/cls/cr/alpaca/all/de/bd10_top10_para_topk_init/v1/turbo\n",
            "+ for SEED in 5 10 15\n",
            "+ python run.py --seed 5 --dataset cr --task cls --batch-size 64 --prompt-num 0 --sample_num 500 --language_model alpaca --budget 10 --popsize 10 --position demon --evo_mode de --llm_type turbo --setting default --write_step 5 --initial all --initial_mode para_topk --template v1 --output outputs/cls/cr/alpaca/all/de/bd10_top10_para_topk_init/v1/turbo/seed5 --cache_path data/cls/cr/seed5/prompts_batched.json --dev_file ./data/cls/cr/seed5/dev.txt\n",
            "2025-01-29 17:35:11.710806: E external/local_xla/xla/stream_executor/cuda/cuda_fft.cc:485] Unable to register cuFFT factory: Attempting to register factory for plugin cuFFT when one has already been registered\n",
            "2025-01-29 17:35:11.735380: E external/local_xla/xla/stream_executor/cuda/cuda_dnn.cc:8454] Unable to register cuDNN factory: Attempting to register factory for plugin cuDNN when one has already been registered\n",
            "2025-01-29 17:35:11.742449: E external/local_xla/xla/stream_executor/cuda/cuda_blas.cc:1452] Unable to register cuBLAS factory: Attempting to register factory for plugin cuBLAS when one has already been registered\n",
            "2025-01-29 17:35:11.758874: I tensorflow/core/platform/cpu_feature_guard.cc:210] This TensorFlow binary is optimized to use available CPU instructions in performance-critical operations.\n",
            "To enable the following instructions: AVX2 FMA, in other operations, rebuild TensorFlow with the appropriate compiler flags.\n",
            "2025-01-29 17:35:13.493400: W tensorflow/compiler/tf2tensorrt/utils/py_utils.cc:38] TF-TRT Warning: Could not find TensorRT\n",
            "Traceback (most recent call last):\n",
            "  File \"/content/EvoPrompt/EvoPrompt/EvoPrompt/run.py\", line 4, in <module>\n",
            "    from evaluator import CLSEvaluator, SimEvaluator, SumEvaluator\n",
            "  File \"/content/EvoPrompt/EvoPrompt/EvoPrompt/evaluator.py\", line 18, in <module>\n",
            "    from sacrebleu.metrics import BLEU, CHRF, TER\n",
            "ModuleNotFoundError: No module named 'sacrebleu'\n"
          ]
        }
      ]
    }
  ]
}